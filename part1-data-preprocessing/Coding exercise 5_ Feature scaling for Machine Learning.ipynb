{
 "cells": [
  {
   "cell_type": "markdown",
   "metadata": {
    "id": "WOw8yMd1VlnD"
   },
   "source": [
    "# Data Preprocessing Template"
   ]
  },
  {
   "cell_type": "markdown",
   "metadata": {},
   "source": [
    "Coding exercise 5: Feature scaling for Machine Learning\n",
    "\n",
    "1. Import the necessary libraries for data preprocessing, including the StandardScaler and train_test_split classes.\n",
    "\n",
    "2. Load the \"Wine Quality Red\" dataset into a pandas DataFrame. You can use the pd.read_csv function for this. Make sure you set the correct delimeter for the file.\n",
    "\n",
    "3. Split your dataset into an 80-20 training-test set. Set random_state to 42 to ensure reproducible results.\n",
    "\n",
    "4. Create an instance of the StandardScaler class.\n",
    "\n",
    "5. Fit the StandardScaler on features from the training set, excluding the target variable 'Quality'.\n",
    "\n",
    "6. Use the \"fit_transform\" method of the StandardScaler object on the training dataset.\n",
    "\n",
    "7. Apply the \"transform\" method of the StandardScaler object on the test dataset.\n",
    "\n",
    "8. Print your scaled training and test datasets to verify the feature scaling process."
   ]
  },
  {
   "cell_type": "markdown",
   "metadata": {
    "id": "NvUGC8QQV6bV"
   },
   "source": [
    "## Importing the libraries"
   ]
  },
  {
   "cell_type": "code",
   "execution_count": 2,
   "metadata": {
    "executionInfo": {
     "elapsed": 4108,
     "status": "ok",
     "timestamp": 1731793731614,
     "user": {
      "displayName": "Amara Chaw",
      "userId": "15442814865005417977"
     },
     "user_tz": 300
    },
    "id": "wfFEXZC0WS-V"
   },
   "outputs": [],
   "source": [
    "import numpy as np\n",
    "import matplotlib.pyplot as plt\n",
    "import pandas as pd\n",
    "from sklearn.impute import SimpleImputer\n",
    "from sklearn.preprocessing import OneHotEncoder\n",
    "from sklearn.model_selection import train_test_split\n",
    "from sklearn.preprocessing import StandardScaler"
   ]
  },
  {
   "cell_type": "markdown",
   "metadata": {
    "id": "fhYaZ-ENV_c5"
   },
   "source": [
    "## Importing the dataset"
   ]
  },
  {
   "cell_type": "code",
   "execution_count": 30,
   "metadata": {
    "id": "aqHTg9bxWT_u"
   },
   "outputs": [],
   "source": [
    "# Load the Wine Quality Red dataset\n",
    "df = pd.read_csv('datasets/winequality-red.csv', delimiter=';')\n",
    "\n",
    "# Separate features and target\n",
    "X = df.drop('quality', axis=1)\n",
    "y = df['quality']\n"
   ]
  },
  {
   "cell_type": "code",
   "execution_count": null,
   "metadata": {},
   "outputs": [
    {
     "name": "stdout",
     "output_type": "stream",
     "text": [
      "      fixed acidity  volatile acidity  citric acid  residual sugar  chlorides  \\\n",
      "0               7.4             0.700         0.00             1.9      0.076   \n",
      "1               7.8             0.880         0.00             2.6      0.098   \n",
      "2               7.8             0.760         0.04             2.3      0.092   \n",
      "3              11.2             0.280         0.56             1.9      0.075   \n",
      "4               7.4             0.700         0.00             1.9      0.076   \n",
      "...             ...               ...          ...             ...        ...   \n",
      "1594            6.2             0.600         0.08             2.0      0.090   \n",
      "1595            5.9             0.550         0.10             2.2      0.062   \n",
      "1596            6.3             0.510         0.13             2.3      0.076   \n",
      "1597            5.9             0.645         0.12             2.0      0.075   \n",
      "1598            6.0             0.310         0.47             3.6      0.067   \n",
      "\n",
      "      free sulfur dioxide  total sulfur dioxide  density    pH  sulphates  \\\n",
      "0                    11.0                  34.0  0.99780  3.51       0.56   \n",
      "1                    25.0                  67.0  0.99680  3.20       0.68   \n",
      "2                    15.0                  54.0  0.99700  3.26       0.65   \n",
      "3                    17.0                  60.0  0.99800  3.16       0.58   \n",
      "4                    11.0                  34.0  0.99780  3.51       0.56   \n",
      "...                   ...                   ...      ...   ...        ...   \n",
      "1594                 32.0                  44.0  0.99490  3.45       0.58   \n",
      "1595                 39.0                  51.0  0.99512  3.52       0.76   \n",
      "1596                 29.0                  40.0  0.99574  3.42       0.75   \n",
      "1597                 32.0                  44.0  0.99547  3.57       0.71   \n",
      "1598                 18.0                  42.0  0.99549  3.39       0.66   \n",
      "\n",
      "      alcohol  quality  \n",
      "0         9.4        5  \n",
      "1         9.8        5  \n",
      "2         9.8        5  \n",
      "3         9.8        6  \n",
      "4         9.4        5  \n",
      "...       ...      ...  \n",
      "1594     10.5        5  \n",
      "1595     11.2        6  \n",
      "1596     11.0        6  \n",
      "1597     10.2        5  \n",
      "1598     11.0        6  \n",
      "\n",
      "[1599 rows x 12 columns]\n"
     ]
    }
   ],
   "source": [
    "print(dataset.head())"
   ]
  },
  {
   "cell_type": "code",
   "execution_count": 31,
   "metadata": {},
   "outputs": [
    {
     "name": "stdout",
     "output_type": "stream",
     "text": [
      "<class 'pandas.core.frame.DataFrame'>\n",
      "RangeIndex: 1599 entries, 0 to 1598\n",
      "Data columns (total 12 columns):\n",
      " #   Column                Non-Null Count  Dtype  \n",
      "---  ------                --------------  -----  \n",
      " 0   fixed acidity         1599 non-null   float64\n",
      " 1   volatile acidity      1599 non-null   float64\n",
      " 2   citric acid           1599 non-null   float64\n",
      " 3   residual sugar        1599 non-null   float64\n",
      " 4   chlorides             1599 non-null   float64\n",
      " 5   free sulfur dioxide   1599 non-null   float64\n",
      " 6   total sulfur dioxide  1599 non-null   float64\n",
      " 7   density               1599 non-null   float64\n",
      " 8   pH                    1599 non-null   float64\n",
      " 9   sulphates             1599 non-null   float64\n",
      " 10  alcohol               1599 non-null   float64\n",
      " 11  quality               1599 non-null   int64  \n",
      "dtypes: float64(11), int64(1)\n",
      "memory usage: 150.0 KB\n",
      "None\n"
     ]
    }
   ],
   "source": [
    "print(df.info())"
   ]
  },
  {
   "cell_type": "markdown",
   "metadata": {
    "id": "3abSxRqvWEIB"
   },
   "source": [
    "## Splitting the dataset into the Training set and Test set"
   ]
  },
  {
   "cell_type": "code",
   "execution_count": 32,
   "metadata": {
    "id": "hm48sif-WWsh"
   },
   "outputs": [],
   "source": [
    "# Split the dataset into an 80-20 training-test set\n",
    "X_train, X_test, y_train, y_test = train_test_split(X, y, test_size = 0.2, random_state = 42)"
   ]
  },
  {
   "cell_type": "code",
   "execution_count": 33,
   "metadata": {},
   "outputs": [
    {
     "name": "stdout",
     "output_type": "stream",
     "text": [
      "      fixed acidity  volatile acidity  citric acid  residual sugar  chlorides  \\\n",
      "493             8.7             0.690         0.31             3.0      0.086   \n",
      "354             6.1             0.210         0.40             1.4      0.066   \n",
      "342            10.9             0.390         0.47             1.8      0.118   \n",
      "834             8.8             0.685         0.26             1.6      0.088   \n",
      "705             8.4             1.035         0.15             6.0      0.073   \n",
      "...             ...               ...          ...             ...        ...   \n",
      "1130            9.1             0.600         0.00             1.9      0.058   \n",
      "1294            8.2             0.635         0.10             2.1      0.073   \n",
      "860             7.2             0.620         0.06             2.7      0.077   \n",
      "1459            7.9             0.200         0.35             1.7      0.054   \n",
      "1126            5.8             0.290         0.26             1.7      0.063   \n",
      "\n",
      "      free sulfur dioxide  total sulfur dioxide  density    pH  sulphates  \\\n",
      "493                  23.0                  81.0  1.00020  3.48       0.74   \n",
      "354                  40.5                 165.0  0.99120  3.25       0.59   \n",
      "342                   6.0                  14.0  0.99820  3.30       0.75   \n",
      "834                  16.0                  23.0  0.99694  3.32       0.47   \n",
      "705                  11.0                  54.0  0.99900  3.37       0.49   \n",
      "...                   ...                   ...      ...   ...        ...   \n",
      "1130                  5.0                  10.0  0.99770  3.18       0.63   \n",
      "1294                 25.0                  60.0  0.99638  3.29       0.75   \n",
      "860                  15.0                  85.0  0.99746  3.51       0.54   \n",
      "1459                  7.0                  15.0  0.99458  3.32       0.80   \n",
      "1126                  3.0                  11.0  0.99150  3.39       0.54   \n",
      "\n",
      "      alcohol  \n",
      "493      11.6  \n",
      "354      11.9  \n",
      "342       9.8  \n",
      "834       9.4  \n",
      "705       9.9  \n",
      "...       ...  \n",
      "1130     10.4  \n",
      "1294     10.9  \n",
      "860       9.5  \n",
      "1459     11.9  \n",
      "1126     13.5  \n",
      "\n",
      "[1279 rows x 11 columns]\n"
     ]
    }
   ],
   "source": [
    "print(X_train)"
   ]
  },
  {
   "cell_type": "code",
   "execution_count": 34,
   "metadata": {},
   "outputs": [
    {
     "name": "stdout",
     "output_type": "stream",
     "text": [
      "      fixed acidity  volatile acidity  citric acid  residual sugar  chlorides  \\\n",
      "803             7.7             0.560         0.08            2.50      0.114   \n",
      "124             7.8             0.500         0.17            1.60      0.082   \n",
      "350            10.7             0.670         0.22            2.70      0.107   \n",
      "682             8.5             0.460         0.31            2.25      0.078   \n",
      "1326            6.7             0.460         0.24            1.70      0.077   \n",
      "...             ...               ...          ...             ...        ...   \n",
      "1259            6.8             0.640         0.00            2.70      0.123   \n",
      "1295            6.6             0.630         0.00            4.30      0.093   \n",
      "1155            8.3             0.600         0.25            2.20      0.118   \n",
      "963             8.8             0.270         0.39            2.00      0.100   \n",
      "704             9.1             0.765         0.04            1.60      0.078   \n",
      "\n",
      "      free sulfur dioxide  total sulfur dioxide  density    pH  sulphates  \\\n",
      "803                  14.0                  46.0  0.99710  3.24       0.66   \n",
      "124                  21.0                 102.0  0.99600  3.39       0.48   \n",
      "350                  17.0                  34.0  1.00040  3.28       0.98   \n",
      "682                  32.0                  58.0  0.99800  3.33       0.54   \n",
      "1326                 18.0                  34.0  0.99480  3.39       0.60   \n",
      "...                   ...                   ...      ...   ...        ...   \n",
      "1259                 15.0                  33.0  0.99538  3.44       0.63   \n",
      "1295                 51.0                  77.5  0.99558  3.20       0.45   \n",
      "1155                  9.0                  38.0  0.99616  3.15       0.53   \n",
      "963                  20.0                  27.0  0.99546  3.15       0.69   \n",
      "704                   4.0                  14.0  0.99800  3.29       0.54   \n",
      "\n",
      "      alcohol  \n",
      "803       9.6  \n",
      "124       9.5  \n",
      "350       9.9  \n",
      "682       9.8  \n",
      "1326     10.6  \n",
      "...       ...  \n",
      "1259     11.3  \n",
      "1295      9.5  \n",
      "1155      9.8  \n",
      "963      11.2  \n",
      "704       9.7  \n",
      "\n",
      "[320 rows x 11 columns]\n"
     ]
    }
   ],
   "source": [
    "print(X_test)"
   ]
  },
  {
   "cell_type": "markdown",
   "metadata": {},
   "source": [
    "## Feature Scaling"
   ]
  },
  {
   "cell_type": "code",
   "execution_count": 35,
   "metadata": {},
   "outputs": [
    {
     "name": "stdout",
     "output_type": "stream",
     "text": [
      "[[ 0.21833164  0.88971201  0.19209222 ...  1.09349989  0.45822284\n",
      "   1.12317723]\n",
      " [-1.29016623 -1.78878251  0.65275338 ... -0.40043872 -0.40119696\n",
      "   1.40827174]\n",
      " [ 1.49475291 -0.78434707  1.01104539 ... -0.07566946  0.51551749\n",
      "  -0.58738978]\n",
      " ...\n",
      " [-0.65195559  0.49909822 -1.08752211 ...  1.28836145 -0.68767023\n",
      "  -0.87248428]\n",
      " [-0.24582155 -1.84458448  0.39683051 ...  0.05423824  0.80199076\n",
      "   1.40827174]\n",
      " [-1.46422367 -1.34236676 -0.06383064 ...  0.50891521 -0.68767023\n",
      "   2.92877575]]\n",
      "[[-3.61859850e-01  1.64286407e-01 -9.85152962e-01 ... -4.65392578e-01\n",
      "  -1.34389336e-04 -7.77452782e-01]\n",
      " [-3.03840702e-01 -1.70525408e-01 -5.24491803e-01 ...  5.08915214e-01\n",
      "  -1.03143815e+00 -8.72484283e-01]\n",
      " [ 1.37871461e+00  7.78108067e-01 -2.68568937e-01 ... -2.05577167e-01\n",
      "   1.83329452e+00 -4.92358280e-01]\n",
      " ...\n",
      " [-1.37449586e-02  3.87494284e-01 -1.15015218e-01 ... -1.04997725e+00\n",
      "  -7.44964886e-01 -5.87389780e-01]\n",
      " [ 2.76350785e-01 -1.45397070e+00  6.01568807e-01 ... -1.04997725e+00\n",
      "   1.71749571e-01  7.43051230e-01]\n",
      " [ 4.50408230e-01  1.30822677e+00 -1.18989125e+00 ... -1.40623314e-01\n",
      "  -6.87670232e-01 -6.82421281e-01]]\n"
     ]
    }
   ],
   "source": [
    "# Create an instance of the StandardScaler class\n",
    "sc = StandardScaler()\n",
    "\n",
    "# Fit the StandardScaler on the features from the training set and transform it\n",
    "X_train = sc.fit_transform(X_train) \n",
    "\n",
    "# Apply the transform to the test set\n",
    "X_test = sc.transform(X_test)\n",
    "\n",
    "# Print the scaled training and test datasets\n",
    "print(X_train)\n",
    "print(X_test)"
   ]
  }
 ],
 "metadata": {
  "colab": {
   "provenance": [
    {
     "file_id": "1vL6p0B7okFb7DN1YweYaQ-W80qggvmx8",
     "timestamp": 1731793511559
    }
   ]
  },
  "kernelspec": {
   "display_name": "Python 3",
   "name": "python3"
  },
  "language_info": {
   "codemirror_mode": {
    "name": "ipython",
    "version": 3
   },
   "file_extension": ".py",
   "mimetype": "text/x-python",
   "name": "python",
   "nbconvert_exporter": "python",
   "pygments_lexer": "ipython3",
   "version": "3.12.7"
  }
 },
 "nbformat": 4,
 "nbformat_minor": 0
}
